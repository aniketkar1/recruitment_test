{
  "nbformat": 4,
  "nbformat_minor": 0,
  "metadata": {
    "colab": {
      "name": "lasso_withouot_sklearn.ipynb",
      "provenance": [],
      "collapsed_sections": []
    },
    "kernelspec": {
      "name": "python3",
      "display_name": "Python 3"
    }
  },
  "cells": [
    {
      "cell_type": "code",
      "metadata": {
        "id": "M5OSnVEX67ru",
        "colab_type": "code",
        "colab": {}
      },
      "source": [
        "from sklearn.datasets import load_diabetes\n",
        "from sklearn.model_selection  import train_test_split\n",
        "import numpy as np \n",
        "import matplotlib.pyplot as plt\n",
        "import math"
      ],
      "execution_count": 0,
      "outputs": []
    },
    {
      "cell_type": "code",
      "metadata": {
        "id": "obaemd0e7hD1",
        "colab_type": "code",
        "outputId": "efd39129-21de-4460-9784-14f9e2ae00c6",
        "colab": {
          "base_uri": "https://localhost:8080/",
          "height": 34
        }
      },
      "source": [
        "dia = load_diabetes()\n",
        "Y = dia.target\n",
        "X = dia.data\n",
        "X_train,X_test,y_train,y_test=train_test_split(X,Y, test_size=0.3, random_state=31)\n",
        "w = np.random.randn(X_train.shape[1],1)\n",
        "print(w.shape)\n",
        "X_train.shape\n",
        "y_train.resize(309,1)\n",
        "y_test.resize(133,1)"
      ],
      "execution_count": 270,
      "outputs": [
        {
          "output_type": "stream",
          "text": [
            "(10, 1)\n"
          ],
          "name": "stdout"
        }
      ]
    },
    {
      "cell_type": "code",
      "metadata": {
        "id": "FS7JGkQE-i1q",
        "colab_type": "code",
        "colab": {}
      },
      "source": [
        "learning_rate = 0.01\n",
        "L1_coeff =0.01\n",
        "costs=[]\n",
        "#print(y_train)"
      ],
      "execution_count": 0,
      "outputs": []
    },
    {
      "cell_type": "code",
      "metadata": {
        "id": "Y4Yvi03--zjt",
        "colab_type": "code",
        "colab": {}
      },
      "source": [
        "for i in range(2000):\n",
        "   # print(w.shape)\n",
        "    y = X_train.dot(w)\n",
        "    #print(y_train.shape)\n",
        "   # print(y.shape)\n",
        "    delta = y - y_train # error \n",
        "   # print(delta.shape)\n",
        "    #print(delta)\n",
        "    w = w -learning_rate*(X_train.transpose().dot(delta) + L1_coeff*np.sign(w)) #p gradient descent \n",
        "    mse = math.sqrt(delta.T.dot(delta) /309)#Finding mean square error\n",
        "    costs.append(mse) \n",
        "    \n",
        "\n",
        "\n",
        "\n",
        "    "
      ],
      "execution_count": 0,
      "outputs": []
    },
    {
      "cell_type": "code",
      "metadata": {
        "id": "TezmWsS_cvMY",
        "colab_type": "code",
        "colab": {
          "base_uri": "https://localhost:8080/",
          "height": 52
        },
        "outputId": "d5b0ea8b-194a-44ff-a964-ac97bbd170fb"
      },
      "source": [
        "y = X_test.dot(w)\n",
        "delta = y-y_test\n",
        "mse = math.sqrt(delta.T.dot(delta) /309)\n",
        "print(\" training score\" ,1- min(costs)/309)\n",
        "print(\" test score\" ,1- mse/309)\n"
      ],
      "execution_count": 273,
      "outputs": [
        {
          "output_type": "stream",
          "text": [
            " training score 0.4854895808942795\n",
            " test score 0.6433750381542194\n"
          ],
          "name": "stdout"
        }
      ]
    },
    {
      "cell_type": "code",
      "metadata": {
        "id": "4BpDRbGDAHgh",
        "colab_type": "code",
        "outputId": "257cc01a-a698-4f34-94ff-c7fb5529141d",
        "colab": {
          "base_uri": "https://localhost:8080/",
          "height": 298
        }
      },
      "source": [
        "\n",
        "print(\" training score\" ,1- min(costs)/309)\n",
        "plt.plot(costs)#\n",
        "plt.title(\"Plot of costs of L1 Regularization\")\n",
        "plt.ylabel(\"Costs\")\n",
        "plt.show()\n",
        "\n",
        "\n"
      ],
      "execution_count": 274,
      "outputs": [
        {
          "output_type": "stream",
          "text": [
            " training score 0.4854895808942795\n"
          ],
          "name": "stdout"
        },
        {
          "output_type": "display_data",
          "data": {
            "image/png": "[encoded data removed]",
            "text/plain": [
              "<Figure size 432x288 with 1 Axes>"
            ]
          },
          "metadata": {
            "tags": []
          }
        }
      ]
    }
  ]
}